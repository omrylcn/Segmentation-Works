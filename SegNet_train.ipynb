{
 "cells": [
  {
   "cell_type": "code",
   "execution_count": 1,
   "metadata": {},
   "outputs": [
    {
     "name": "stderr",
     "output_type": "stream",
     "text": [
      "Using TensorFlow backend.\n"
     ]
    }
   ],
   "source": [
    "import keras \n",
    "from keras import layers\n",
    "from keras import Sequential\n",
    "import segnet_models\n",
    "import os \n",
    "import numpy\n",
    "import matplotlib.pyplot as plt \n",
    "import make_batch"
   ]
  },
  {
   "cell_type": "code",
   "execution_count": 2,
   "metadata": {},
   "outputs": [],
   "source": [
    "train_images_path=\"data/dataset/i_train/\"\n",
    "train_segs_path=\"data/dataset/a_train/\"\n",
    "val_images_path=\"data/dataset/i_test/\"\n",
    "val_segs_path=\"data/dataset/a_test/\"\n",
    "\n",
    "train_batch_size=1\n",
    "val_batch_size=1\n",
    "n_classes=10\n",
    "input_height=360\n",
    "input_width=480\n",
    "validate=True\n",
    "epoch=10\n"
   ]
  },
  {
   "cell_type": "code",
   "execution_count": 3,
   "metadata": {},
   "outputs": [],
   "source": [
    "model=segnet_models.basic_segnet(input_height=360,input_width=480,n_classes=10)"
   ]
  },
  {
   "cell_type": "code",
   "execution_count": 5,
   "metadata": {},
   "outputs": [],
   "source": [
    "l=model.get_layer(\"conv2d_9\")\n",
    "output_h=l.output_shape[1]\n",
    "output_w=l.output_shape[2]"
   ]
  },
  {
   "cell_type": "code",
   "execution_count": 7,
   "metadata": {},
   "outputs": [],
   "source": [
    "g=make_batch.imageSegmentationGemerator(train_images_path,train_segs_path,batch_size=train_batch_size,\n",
    "                                        n_classes=10,output_h=output_h,output_w=output_w,input_h=input_height,\n",
    "                                        input_w=input_width)\n",
    "\n",
    "g2=make_batch.imageSegmentationGemerator(val_images_path,val_segs_path,batch_size=val_batch_size,\n",
    "                                        n_classes=10,output_h=output_h,output_w=output_w,input_h=input_height,\n",
    "                                        input_w=input_width)"
   ]
  },
  {
   "cell_type": "code",
   "execution_count": 8,
   "metadata": {},
   "outputs": [],
   "source": [
    "model.compile(loss='categorical_crossentropy',\n",
    "      optimizer= \"Adam\" ,\n",
    "      metrics=['accuracy'])"
   ]
  },
  {
   "cell_type": "code",
   "execution_count": 9,
   "metadata": {},
   "outputs": [
    {
     "name": "stdout",
     "output_type": "stream",
     "text": [
      "Epoch 1/5\n",
      "5/5 [==============================] - 55s 11s/step - loss: 1.6936 - acc: 0.4514 - val_loss: 6.8623 - val_acc: 0.3710\n",
      "Epoch 2/5\n",
      "5/5 [==============================] - 55s 11s/step - loss: 1.0215 - acc: 0.6368 - val_loss: 4.8236 - val_acc: 0.2848\n",
      "Epoch 3/5\n",
      "5/5 [==============================] - 54s 11s/step - loss: 0.9572 - acc: 0.6351 - val_loss: 7.6093 - val_acc: 0.2643\n",
      "Epoch 4/5\n",
      "5/5 [==============================] - 60s 12s/step - loss: 0.9027 - acc: 0.6631 - val_loss: 7.2848 - val_acc: 0.2066\n",
      "Epoch 5/5\n",
      "5/5 [==============================] - 56s 11s/step - loss: 0.8680 - acc: 0.6571 - val_loss: 3.5889 - val_acc: 0.4382\n"
     ]
    },
    {
     "data": {
      "text/plain": [
       "<keras.callbacks.History at 0x7f8104522048>"
      ]
     },
     "execution_count": 9,
     "metadata": {},
     "output_type": "execute_result"
    }
   ],
   "source": [
    "model.fit_generator(g,5,5,validation_data=g2,validation_steps=5)"
   ]
  },
  {
   "cell_type": "markdown",
   "metadata": {},
   "source": [
    "References:\n",
    "\n",
    "- https://github.com/ykamikawa/SegNet\n",
    "- https://github.com/divamgupta/image-segmentation-keras\n",
    "- https://github.com/aurora95/Keras-FCN"
   ]
  },
  {
   "cell_type": "code",
   "execution_count": null,
   "metadata": {},
   "outputs": [],
   "source": []
  }
 ],
 "metadata": {
  "kernelspec": {
   "display_name": "Python 3",
   "language": "python",
   "name": "python3"
  },
  "language_info": {
   "codemirror_mode": {
    "name": "ipython",
    "version": 3
   },
   "file_extension": ".py",
   "mimetype": "text/x-python",
   "name": "python",
   "nbconvert_exporter": "python",
   "pygments_lexer": "ipython3",
   "version": "3.6.6"
  }
 },
 "nbformat": 4,
 "nbformat_minor": 2
}
